{
 "cells": [
  {
   "cell_type": "markdown",
   "metadata": {},
   "source": [
    "# Mouse Control Project\n",
    "\n",
    "In this project, you'll be able to control your `GoPiGo3` robot with a ``wireless mouse``.\n",
    "Make sure you connect a `wireless mouse` to your `Raspberry Pi` and then launch the script (preferably with SSH).\n",
    "\n",
    "![GoPiGo3 with Mouse](http://i.imgur.com/Rat5EQN.jpg)\n",
    "\n",
    "When the ``mouse_control_robot`` script is launched (with either Python 2 or 3), the user\n",
    "is prompted to input a value which represents the mode of operation:\n",
    "\n",
    "* When the input value is `choice = 1`, the robot gets to be controlled by the mouse's buttons. Here's a list on what each combination of buttons does:\n",
    "  * The `left` button of the mouse - moves the `GoPiGo3` to the left.\n",
    "  * The `right` button of the mouse - moves the `GoPiGo3` to the right.\n",
    "  * The `middle` button of the mouse - moves the `GoPiGo3` backward.\n",
    "  * Both the `left` & the `right` buttons of the mouse - moves the `GoPiGo3` forward.\n",
    "  * Not pressing any button keeps the robot stationary.\n",
    "\n",
    "* When the input value is `choice = 2`, the robot gets to be controlled by the mouse's movements.\n",
    "  * Moving the mouse `forward`, makes the `GoPiGo3` to move forward.\n",
    "  * Moving the mouse `backward`, makes the `GoPiGo3` to move backward.\n",
    "  * Moving the mouse to the `left`, makes the `GoPiGo3` to move to the left.\n",
    "  * Moving the mouse to the `right`, makes the `GoPiGo3` to move to the right.\n",
    "  * Not moving the mouse in any direction keeps the robot stationary.\n",
    "\n",
    "When closing the app, press the `CTRL-C` combination of keys and move the mouse around just a little bit, so that the process stops. That's because the script uses blocking methods and while the mouse is stationary (and no buttons are pressed), the script is in a state of *\"waiting\"*.  \n",
    "\n",
    "![](http://i.imgur.com/K5ZK8fj.gif)\n"
   ]
  }
 ],
 "metadata": {
  "kernelspec": {
   "display_name": "Python 3",
   "language": "python",
   "name": "python3"
  },
  "language_info": {
   "codemirror_mode": {
    "name": "ipython",
    "version": 3
   },
   "file_extension": ".py",
   "mimetype": "text/x-python",
   "name": "python",
   "nbconvert_exporter": "python",
   "pygments_lexer": "ipython3",
   "version": "3.4.3"
  }
 },
 "nbformat": 4,
 "nbformat_minor": 2
}
